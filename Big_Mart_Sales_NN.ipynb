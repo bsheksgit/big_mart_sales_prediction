{
 "cells": [
  {
   "cell_type": "markdown",
   "id": "e2ce6633",
   "metadata": {},
   "source": [
    "# Big Mart sales prediction using neural networks."
   ]
  },
  {
   "cell_type": "code",
   "execution_count": 1,
   "id": "5a24875d",
   "metadata": {},
   "outputs": [],
   "source": [
    "import pandas as pd\n",
    "import numpy as np\n",
    "import sklearn\n",
    "from sklearn.model_selection import train_test_split\n",
    "from sklearn.metrics import accuracy_score\n",
    "import matplotlib.pyplot as plt\n",
    "import keras\n",
    "import tensorflow as tf\n",
    "import matplotlib.pyplot as plt\n",
    "import seaborn as sns\n",
    "from sklearn.metrics import r2_score"
   ]
  },
  {
   "cell_type": "markdown",
   "id": "fa1c4803",
   "metadata": {},
   "source": [
    "## Importing and eyeballing the data"
   ]
  },
  {
   "cell_type": "code",
   "execution_count": 2,
   "id": "862ed7e7",
   "metadata": {},
   "outputs": [],
   "source": [
    "train_data = pd.read_csv('train_set_big_mart.csv')\n",
    "test_data = pd.read_csv('test_set_big_mart.csv')"
   ]
  },
  {
   "cell_type": "code",
   "execution_count": 3,
   "id": "fe60440d",
   "metadata": {},
   "outputs": [
    {
     "data": {
      "text/html": [
       "<div>\n",
       "<style scoped>\n",
       "    .dataframe tbody tr th:only-of-type {\n",
       "        vertical-align: middle;\n",
       "    }\n",
       "\n",
       "    .dataframe tbody tr th {\n",
       "        vertical-align: top;\n",
       "    }\n",
       "\n",
       "    .dataframe thead th {\n",
       "        text-align: right;\n",
       "    }\n",
       "</style>\n",
       "<table border=\"1\" class=\"dataframe\">\n",
       "  <thead>\n",
       "    <tr style=\"text-align: right;\">\n",
       "      <th></th>\n",
       "      <th>Item_Identifier</th>\n",
       "      <th>Item_Weight</th>\n",
       "      <th>Item_Fat_Content</th>\n",
       "      <th>Item_Visibility</th>\n",
       "      <th>Item_Type</th>\n",
       "      <th>Item_MRP</th>\n",
       "      <th>Outlet_Identifier</th>\n",
       "      <th>Outlet_Establishment_Year</th>\n",
       "      <th>Outlet_Size</th>\n",
       "      <th>Outlet_Location_Type</th>\n",
       "      <th>Outlet_Type</th>\n",
       "      <th>Item_Outlet_Sales</th>\n",
       "    </tr>\n",
       "  </thead>\n",
       "  <tbody>\n",
       "    <tr>\n",
       "      <th>0</th>\n",
       "      <td>FDA15</td>\n",
       "      <td>9.300</td>\n",
       "      <td>Low Fat</td>\n",
       "      <td>0.016047</td>\n",
       "      <td>Dairy</td>\n",
       "      <td>249.8092</td>\n",
       "      <td>OUT049</td>\n",
       "      <td>1999</td>\n",
       "      <td>Medium</td>\n",
       "      <td>Tier 1</td>\n",
       "      <td>Supermarket Type1</td>\n",
       "      <td>3735.1380</td>\n",
       "    </tr>\n",
       "    <tr>\n",
       "      <th>1</th>\n",
       "      <td>DRC01</td>\n",
       "      <td>5.920</td>\n",
       "      <td>Regular</td>\n",
       "      <td>0.019278</td>\n",
       "      <td>Soft Drinks</td>\n",
       "      <td>48.2692</td>\n",
       "      <td>OUT018</td>\n",
       "      <td>2009</td>\n",
       "      <td>Medium</td>\n",
       "      <td>Tier 3</td>\n",
       "      <td>Supermarket Type2</td>\n",
       "      <td>443.4228</td>\n",
       "    </tr>\n",
       "    <tr>\n",
       "      <th>2</th>\n",
       "      <td>FDN15</td>\n",
       "      <td>17.500</td>\n",
       "      <td>Low Fat</td>\n",
       "      <td>0.016760</td>\n",
       "      <td>Meat</td>\n",
       "      <td>141.6180</td>\n",
       "      <td>OUT049</td>\n",
       "      <td>1999</td>\n",
       "      <td>Medium</td>\n",
       "      <td>Tier 1</td>\n",
       "      <td>Supermarket Type1</td>\n",
       "      <td>2097.2700</td>\n",
       "    </tr>\n",
       "    <tr>\n",
       "      <th>3</th>\n",
       "      <td>FDX07</td>\n",
       "      <td>19.200</td>\n",
       "      <td>Regular</td>\n",
       "      <td>0.000000</td>\n",
       "      <td>Fruits and Vegetables</td>\n",
       "      <td>182.0950</td>\n",
       "      <td>OUT010</td>\n",
       "      <td>1998</td>\n",
       "      <td>NaN</td>\n",
       "      <td>Tier 3</td>\n",
       "      <td>Grocery Store</td>\n",
       "      <td>732.3800</td>\n",
       "    </tr>\n",
       "    <tr>\n",
       "      <th>4</th>\n",
       "      <td>NCD19</td>\n",
       "      <td>8.930</td>\n",
       "      <td>Low Fat</td>\n",
       "      <td>0.000000</td>\n",
       "      <td>Household</td>\n",
       "      <td>53.8614</td>\n",
       "      <td>OUT013</td>\n",
       "      <td>1987</td>\n",
       "      <td>High</td>\n",
       "      <td>Tier 3</td>\n",
       "      <td>Supermarket Type1</td>\n",
       "      <td>994.7052</td>\n",
       "    </tr>\n",
       "    <tr>\n",
       "      <th>...</th>\n",
       "      <td>...</td>\n",
       "      <td>...</td>\n",
       "      <td>...</td>\n",
       "      <td>...</td>\n",
       "      <td>...</td>\n",
       "      <td>...</td>\n",
       "      <td>...</td>\n",
       "      <td>...</td>\n",
       "      <td>...</td>\n",
       "      <td>...</td>\n",
       "      <td>...</td>\n",
       "      <td>...</td>\n",
       "    </tr>\n",
       "    <tr>\n",
       "      <th>8518</th>\n",
       "      <td>FDF22</td>\n",
       "      <td>6.865</td>\n",
       "      <td>Low Fat</td>\n",
       "      <td>0.056783</td>\n",
       "      <td>Snack Foods</td>\n",
       "      <td>214.5218</td>\n",
       "      <td>OUT013</td>\n",
       "      <td>1987</td>\n",
       "      <td>High</td>\n",
       "      <td>Tier 3</td>\n",
       "      <td>Supermarket Type1</td>\n",
       "      <td>2778.3834</td>\n",
       "    </tr>\n",
       "    <tr>\n",
       "      <th>8519</th>\n",
       "      <td>FDS36</td>\n",
       "      <td>8.380</td>\n",
       "      <td>Regular</td>\n",
       "      <td>0.046982</td>\n",
       "      <td>Baking Goods</td>\n",
       "      <td>108.1570</td>\n",
       "      <td>OUT045</td>\n",
       "      <td>2002</td>\n",
       "      <td>NaN</td>\n",
       "      <td>Tier 2</td>\n",
       "      <td>Supermarket Type1</td>\n",
       "      <td>549.2850</td>\n",
       "    </tr>\n",
       "    <tr>\n",
       "      <th>8520</th>\n",
       "      <td>NCJ29</td>\n",
       "      <td>10.600</td>\n",
       "      <td>Low Fat</td>\n",
       "      <td>0.035186</td>\n",
       "      <td>Health and Hygiene</td>\n",
       "      <td>85.1224</td>\n",
       "      <td>OUT035</td>\n",
       "      <td>2004</td>\n",
       "      <td>Small</td>\n",
       "      <td>Tier 2</td>\n",
       "      <td>Supermarket Type1</td>\n",
       "      <td>1193.1136</td>\n",
       "    </tr>\n",
       "    <tr>\n",
       "      <th>8521</th>\n",
       "      <td>FDN46</td>\n",
       "      <td>7.210</td>\n",
       "      <td>Regular</td>\n",
       "      <td>0.145221</td>\n",
       "      <td>Snack Foods</td>\n",
       "      <td>103.1332</td>\n",
       "      <td>OUT018</td>\n",
       "      <td>2009</td>\n",
       "      <td>Medium</td>\n",
       "      <td>Tier 3</td>\n",
       "      <td>Supermarket Type2</td>\n",
       "      <td>1845.5976</td>\n",
       "    </tr>\n",
       "    <tr>\n",
       "      <th>8522</th>\n",
       "      <td>DRG01</td>\n",
       "      <td>14.800</td>\n",
       "      <td>Low Fat</td>\n",
       "      <td>0.044878</td>\n",
       "      <td>Soft Drinks</td>\n",
       "      <td>75.4670</td>\n",
       "      <td>OUT046</td>\n",
       "      <td>1997</td>\n",
       "      <td>Small</td>\n",
       "      <td>Tier 1</td>\n",
       "      <td>Supermarket Type1</td>\n",
       "      <td>765.6700</td>\n",
       "    </tr>\n",
       "  </tbody>\n",
       "</table>\n",
       "<p>8523 rows × 12 columns</p>\n",
       "</div>"
      ],
      "text/plain": [
       "     Item_Identifier  Item_Weight Item_Fat_Content  Item_Visibility   \n",
       "0              FDA15        9.300          Low Fat         0.016047  \\\n",
       "1              DRC01        5.920          Regular         0.019278   \n",
       "2              FDN15       17.500          Low Fat         0.016760   \n",
       "3              FDX07       19.200          Regular         0.000000   \n",
       "4              NCD19        8.930          Low Fat         0.000000   \n",
       "...              ...          ...              ...              ...   \n",
       "8518           FDF22        6.865          Low Fat         0.056783   \n",
       "8519           FDS36        8.380          Regular         0.046982   \n",
       "8520           NCJ29       10.600          Low Fat         0.035186   \n",
       "8521           FDN46        7.210          Regular         0.145221   \n",
       "8522           DRG01       14.800          Low Fat         0.044878   \n",
       "\n",
       "                  Item_Type  Item_MRP Outlet_Identifier   \n",
       "0                     Dairy  249.8092            OUT049  \\\n",
       "1               Soft Drinks   48.2692            OUT018   \n",
       "2                      Meat  141.6180            OUT049   \n",
       "3     Fruits and Vegetables  182.0950            OUT010   \n",
       "4                 Household   53.8614            OUT013   \n",
       "...                     ...       ...               ...   \n",
       "8518            Snack Foods  214.5218            OUT013   \n",
       "8519           Baking Goods  108.1570            OUT045   \n",
       "8520     Health and Hygiene   85.1224            OUT035   \n",
       "8521            Snack Foods  103.1332            OUT018   \n",
       "8522            Soft Drinks   75.4670            OUT046   \n",
       "\n",
       "      Outlet_Establishment_Year Outlet_Size Outlet_Location_Type   \n",
       "0                          1999      Medium               Tier 1  \\\n",
       "1                          2009      Medium               Tier 3   \n",
       "2                          1999      Medium               Tier 1   \n",
       "3                          1998         NaN               Tier 3   \n",
       "4                          1987        High               Tier 3   \n",
       "...                         ...         ...                  ...   \n",
       "8518                       1987        High               Tier 3   \n",
       "8519                       2002         NaN               Tier 2   \n",
       "8520                       2004       Small               Tier 2   \n",
       "8521                       2009      Medium               Tier 3   \n",
       "8522                       1997       Small               Tier 1   \n",
       "\n",
       "            Outlet_Type  Item_Outlet_Sales  \n",
       "0     Supermarket Type1          3735.1380  \n",
       "1     Supermarket Type2           443.4228  \n",
       "2     Supermarket Type1          2097.2700  \n",
       "3         Grocery Store           732.3800  \n",
       "4     Supermarket Type1           994.7052  \n",
       "...                 ...                ...  \n",
       "8518  Supermarket Type1          2778.3834  \n",
       "8519  Supermarket Type1           549.2850  \n",
       "8520  Supermarket Type1          1193.1136  \n",
       "8521  Supermarket Type2          1845.5976  \n",
       "8522  Supermarket Type1           765.6700  \n",
       "\n",
       "[8523 rows x 12 columns]"
      ]
     },
     "execution_count": 3,
     "metadata": {},
     "output_type": "execute_result"
    }
   ],
   "source": [
    "train_data"
   ]
  },
  {
   "cell_type": "code",
   "execution_count": 4,
   "id": "bd3da52a",
   "metadata": {},
   "outputs": [
    {
     "name": "stdout",
     "output_type": "stream",
     "text": [
      "<class 'pandas.core.frame.DataFrame'>\n",
      "RangeIndex: 8523 entries, 0 to 8522\n",
      "Data columns (total 12 columns):\n",
      " #   Column                     Non-Null Count  Dtype  \n",
      "---  ------                     --------------  -----  \n",
      " 0   Item_Identifier            8523 non-null   object \n",
      " 1   Item_Weight                7060 non-null   float64\n",
      " 2   Item_Fat_Content           8523 non-null   object \n",
      " 3   Item_Visibility            8523 non-null   float64\n",
      " 4   Item_Type                  8523 non-null   object \n",
      " 5   Item_MRP                   8523 non-null   float64\n",
      " 6   Outlet_Identifier          8523 non-null   object \n",
      " 7   Outlet_Establishment_Year  8523 non-null   int64  \n",
      " 8   Outlet_Size                6113 non-null   object \n",
      " 9   Outlet_Location_Type       8523 non-null   object \n",
      " 10  Outlet_Type                8523 non-null   object \n",
      " 11  Item_Outlet_Sales          8523 non-null   float64\n",
      "dtypes: float64(4), int64(1), object(7)\n",
      "memory usage: 799.2+ KB\n"
     ]
    }
   ],
   "source": [
    "train_data.info()"
   ]
  },
  {
   "cell_type": "code",
   "execution_count": 5,
   "id": "bf1d920b",
   "metadata": {},
   "outputs": [],
   "source": [
    "# There are null values in Item_Weight and Outlet_Size"
   ]
  },
  {
   "cell_type": "code",
   "execution_count": 6,
   "id": "a8edc0af",
   "metadata": {},
   "outputs": [
    {
     "data": {
      "text/html": [
       "<div>\n",
       "<style scoped>\n",
       "    .dataframe tbody tr th:only-of-type {\n",
       "        vertical-align: middle;\n",
       "    }\n",
       "\n",
       "    .dataframe tbody tr th {\n",
       "        vertical-align: top;\n",
       "    }\n",
       "\n",
       "    .dataframe thead th {\n",
       "        text-align: right;\n",
       "    }\n",
       "</style>\n",
       "<table border=\"1\" class=\"dataframe\">\n",
       "  <thead>\n",
       "    <tr style=\"text-align: right;\">\n",
       "      <th></th>\n",
       "      <th>Item_Weight</th>\n",
       "      <th>Item_Visibility</th>\n",
       "      <th>Item_MRP</th>\n",
       "      <th>Outlet_Establishment_Year</th>\n",
       "      <th>Item_Outlet_Sales</th>\n",
       "    </tr>\n",
       "  </thead>\n",
       "  <tbody>\n",
       "    <tr>\n",
       "      <th>count</th>\n",
       "      <td>7060.000000</td>\n",
       "      <td>8523.000000</td>\n",
       "      <td>8523.000000</td>\n",
       "      <td>8523.000000</td>\n",
       "      <td>8523.000000</td>\n",
       "    </tr>\n",
       "    <tr>\n",
       "      <th>mean</th>\n",
       "      <td>12.857645</td>\n",
       "      <td>0.066132</td>\n",
       "      <td>140.992782</td>\n",
       "      <td>1997.831867</td>\n",
       "      <td>2181.288914</td>\n",
       "    </tr>\n",
       "    <tr>\n",
       "      <th>std</th>\n",
       "      <td>4.643456</td>\n",
       "      <td>0.051598</td>\n",
       "      <td>62.275067</td>\n",
       "      <td>8.371760</td>\n",
       "      <td>1706.499616</td>\n",
       "    </tr>\n",
       "    <tr>\n",
       "      <th>min</th>\n",
       "      <td>4.555000</td>\n",
       "      <td>0.000000</td>\n",
       "      <td>31.290000</td>\n",
       "      <td>1985.000000</td>\n",
       "      <td>33.290000</td>\n",
       "    </tr>\n",
       "    <tr>\n",
       "      <th>25%</th>\n",
       "      <td>8.773750</td>\n",
       "      <td>0.026989</td>\n",
       "      <td>93.826500</td>\n",
       "      <td>1987.000000</td>\n",
       "      <td>834.247400</td>\n",
       "    </tr>\n",
       "    <tr>\n",
       "      <th>50%</th>\n",
       "      <td>12.600000</td>\n",
       "      <td>0.053931</td>\n",
       "      <td>143.012800</td>\n",
       "      <td>1999.000000</td>\n",
       "      <td>1794.331000</td>\n",
       "    </tr>\n",
       "    <tr>\n",
       "      <th>75%</th>\n",
       "      <td>16.850000</td>\n",
       "      <td>0.094585</td>\n",
       "      <td>185.643700</td>\n",
       "      <td>2004.000000</td>\n",
       "      <td>3101.296400</td>\n",
       "    </tr>\n",
       "    <tr>\n",
       "      <th>max</th>\n",
       "      <td>21.350000</td>\n",
       "      <td>0.328391</td>\n",
       "      <td>266.888400</td>\n",
       "      <td>2009.000000</td>\n",
       "      <td>13086.964800</td>\n",
       "    </tr>\n",
       "  </tbody>\n",
       "</table>\n",
       "</div>"
      ],
      "text/plain": [
       "       Item_Weight  Item_Visibility     Item_MRP  Outlet_Establishment_Year   \n",
       "count  7060.000000      8523.000000  8523.000000                8523.000000  \\\n",
       "mean     12.857645         0.066132   140.992782                1997.831867   \n",
       "std       4.643456         0.051598    62.275067                   8.371760   \n",
       "min       4.555000         0.000000    31.290000                1985.000000   \n",
       "25%       8.773750         0.026989    93.826500                1987.000000   \n",
       "50%      12.600000         0.053931   143.012800                1999.000000   \n",
       "75%      16.850000         0.094585   185.643700                2004.000000   \n",
       "max      21.350000         0.328391   266.888400                2009.000000   \n",
       "\n",
       "       Item_Outlet_Sales  \n",
       "count        8523.000000  \n",
       "mean         2181.288914  \n",
       "std          1706.499616  \n",
       "min            33.290000  \n",
       "25%           834.247400  \n",
       "50%          1794.331000  \n",
       "75%          3101.296400  \n",
       "max         13086.964800  "
      ]
     },
     "execution_count": 6,
     "metadata": {},
     "output_type": "execute_result"
    }
   ],
   "source": [
    "train_data.describe()"
   ]
  },
  {
   "cell_type": "code",
   "execution_count": 7,
   "id": "dd49d4a8",
   "metadata": {},
   "outputs": [
    {
     "data": {
      "text/html": [
       "<div>\n",
       "<style scoped>\n",
       "    .dataframe tbody tr th:only-of-type {\n",
       "        vertical-align: middle;\n",
       "    }\n",
       "\n",
       "    .dataframe tbody tr th {\n",
       "        vertical-align: top;\n",
       "    }\n",
       "\n",
       "    .dataframe thead th {\n",
       "        text-align: right;\n",
       "    }\n",
       "</style>\n",
       "<table border=\"1\" class=\"dataframe\">\n",
       "  <thead>\n",
       "    <tr style=\"text-align: right;\">\n",
       "      <th></th>\n",
       "      <th>Item_Identifier</th>\n",
       "      <th>Item_Weight</th>\n",
       "      <th>Item_Fat_Content</th>\n",
       "      <th>Item_Visibility</th>\n",
       "      <th>Item_Type</th>\n",
       "      <th>Item_MRP</th>\n",
       "      <th>Outlet_Identifier</th>\n",
       "      <th>Outlet_Establishment_Year</th>\n",
       "      <th>Outlet_Size</th>\n",
       "      <th>Outlet_Location_Type</th>\n",
       "      <th>Outlet_Type</th>\n",
       "    </tr>\n",
       "  </thead>\n",
       "  <tbody>\n",
       "    <tr>\n",
       "      <th>0</th>\n",
       "      <td>FDW58</td>\n",
       "      <td>20.750</td>\n",
       "      <td>Low Fat</td>\n",
       "      <td>0.007565</td>\n",
       "      <td>Snack Foods</td>\n",
       "      <td>107.8622</td>\n",
       "      <td>OUT049</td>\n",
       "      <td>1999</td>\n",
       "      <td>Medium</td>\n",
       "      <td>Tier 1</td>\n",
       "      <td>Supermarket Type1</td>\n",
       "    </tr>\n",
       "    <tr>\n",
       "      <th>1</th>\n",
       "      <td>FDW14</td>\n",
       "      <td>8.300</td>\n",
       "      <td>reg</td>\n",
       "      <td>0.038428</td>\n",
       "      <td>Dairy</td>\n",
       "      <td>87.3198</td>\n",
       "      <td>OUT017</td>\n",
       "      <td>2007</td>\n",
       "      <td>NaN</td>\n",
       "      <td>Tier 2</td>\n",
       "      <td>Supermarket Type1</td>\n",
       "    </tr>\n",
       "    <tr>\n",
       "      <th>2</th>\n",
       "      <td>NCN55</td>\n",
       "      <td>14.600</td>\n",
       "      <td>Low Fat</td>\n",
       "      <td>0.099575</td>\n",
       "      <td>Others</td>\n",
       "      <td>241.7538</td>\n",
       "      <td>OUT010</td>\n",
       "      <td>1998</td>\n",
       "      <td>NaN</td>\n",
       "      <td>Tier 3</td>\n",
       "      <td>Grocery Store</td>\n",
       "    </tr>\n",
       "    <tr>\n",
       "      <th>3</th>\n",
       "      <td>FDQ58</td>\n",
       "      <td>7.315</td>\n",
       "      <td>Low Fat</td>\n",
       "      <td>0.015388</td>\n",
       "      <td>Snack Foods</td>\n",
       "      <td>155.0340</td>\n",
       "      <td>OUT017</td>\n",
       "      <td>2007</td>\n",
       "      <td>NaN</td>\n",
       "      <td>Tier 2</td>\n",
       "      <td>Supermarket Type1</td>\n",
       "    </tr>\n",
       "    <tr>\n",
       "      <th>4</th>\n",
       "      <td>FDY38</td>\n",
       "      <td>NaN</td>\n",
       "      <td>Regular</td>\n",
       "      <td>0.118599</td>\n",
       "      <td>Dairy</td>\n",
       "      <td>234.2300</td>\n",
       "      <td>OUT027</td>\n",
       "      <td>1985</td>\n",
       "      <td>Medium</td>\n",
       "      <td>Tier 3</td>\n",
       "      <td>Supermarket Type3</td>\n",
       "    </tr>\n",
       "  </tbody>\n",
       "</table>\n",
       "</div>"
      ],
      "text/plain": [
       "  Item_Identifier  Item_Weight Item_Fat_Content  Item_Visibility    Item_Type   \n",
       "0           FDW58       20.750          Low Fat         0.007565  Snack Foods  \\\n",
       "1           FDW14        8.300              reg         0.038428        Dairy   \n",
       "2           NCN55       14.600          Low Fat         0.099575       Others   \n",
       "3           FDQ58        7.315          Low Fat         0.015388  Snack Foods   \n",
       "4           FDY38          NaN          Regular         0.118599        Dairy   \n",
       "\n",
       "   Item_MRP Outlet_Identifier  Outlet_Establishment_Year Outlet_Size   \n",
       "0  107.8622            OUT049                       1999      Medium  \\\n",
       "1   87.3198            OUT017                       2007         NaN   \n",
       "2  241.7538            OUT010                       1998         NaN   \n",
       "3  155.0340            OUT017                       2007         NaN   \n",
       "4  234.2300            OUT027                       1985      Medium   \n",
       "\n",
       "  Outlet_Location_Type        Outlet_Type  \n",
       "0               Tier 1  Supermarket Type1  \n",
       "1               Tier 2  Supermarket Type1  \n",
       "2               Tier 3      Grocery Store  \n",
       "3               Tier 2  Supermarket Type1  \n",
       "4               Tier 3  Supermarket Type3  "
      ]
     },
     "execution_count": 7,
     "metadata": {},
     "output_type": "execute_result"
    }
   ],
   "source": [
    "test_data.head()"
   ]
  },
  {
   "cell_type": "code",
   "execution_count": 8,
   "id": "30658994",
   "metadata": {},
   "outputs": [
    {
     "name": "stdout",
     "output_type": "stream",
     "text": [
      "<class 'pandas.core.frame.DataFrame'>\n",
      "RangeIndex: 5681 entries, 0 to 5680\n",
      "Data columns (total 11 columns):\n",
      " #   Column                     Non-Null Count  Dtype  \n",
      "---  ------                     --------------  -----  \n",
      " 0   Item_Identifier            5681 non-null   object \n",
      " 1   Item_Weight                4705 non-null   float64\n",
      " 2   Item_Fat_Content           5681 non-null   object \n",
      " 3   Item_Visibility            5681 non-null   float64\n",
      " 4   Item_Type                  5681 non-null   object \n",
      " 5   Item_MRP                   5681 non-null   float64\n",
      " 6   Outlet_Identifier          5681 non-null   object \n",
      " 7   Outlet_Establishment_Year  5681 non-null   int64  \n",
      " 8   Outlet_Size                4075 non-null   object \n",
      " 9   Outlet_Location_Type       5681 non-null   object \n",
      " 10  Outlet_Type                5681 non-null   object \n",
      "dtypes: float64(3), int64(1), object(7)\n",
      "memory usage: 488.3+ KB\n"
     ]
    }
   ],
   "source": [
    "test_data.info()"
   ]
  },
  {
   "cell_type": "code",
   "execution_count": 9,
   "id": "8dd094f0",
   "metadata": {},
   "outputs": [],
   "source": [
    "# There are null values in Item_weight and Outlet_Size"
   ]
  },
  {
   "cell_type": "code",
   "execution_count": 10,
   "id": "0f493216",
   "metadata": {},
   "outputs": [
    {
     "data": {
      "text/html": [
       "<div>\n",
       "<style scoped>\n",
       "    .dataframe tbody tr th:only-of-type {\n",
       "        vertical-align: middle;\n",
       "    }\n",
       "\n",
       "    .dataframe tbody tr th {\n",
       "        vertical-align: top;\n",
       "    }\n",
       "\n",
       "    .dataframe thead th {\n",
       "        text-align: right;\n",
       "    }\n",
       "</style>\n",
       "<table border=\"1\" class=\"dataframe\">\n",
       "  <thead>\n",
       "    <tr style=\"text-align: right;\">\n",
       "      <th></th>\n",
       "      <th>Item_Weight</th>\n",
       "      <th>Item_Visibility</th>\n",
       "      <th>Item_MRP</th>\n",
       "      <th>Outlet_Establishment_Year</th>\n",
       "    </tr>\n",
       "  </thead>\n",
       "  <tbody>\n",
       "    <tr>\n",
       "      <th>count</th>\n",
       "      <td>4705.000000</td>\n",
       "      <td>5681.000000</td>\n",
       "      <td>5681.000000</td>\n",
       "      <td>5681.000000</td>\n",
       "    </tr>\n",
       "    <tr>\n",
       "      <th>mean</th>\n",
       "      <td>12.695633</td>\n",
       "      <td>0.065684</td>\n",
       "      <td>141.023273</td>\n",
       "      <td>1997.828903</td>\n",
       "    </tr>\n",
       "    <tr>\n",
       "      <th>std</th>\n",
       "      <td>4.664849</td>\n",
       "      <td>0.051252</td>\n",
       "      <td>61.809091</td>\n",
       "      <td>8.372256</td>\n",
       "    </tr>\n",
       "    <tr>\n",
       "      <th>min</th>\n",
       "      <td>4.555000</td>\n",
       "      <td>0.000000</td>\n",
       "      <td>31.990000</td>\n",
       "      <td>1985.000000</td>\n",
       "    </tr>\n",
       "    <tr>\n",
       "      <th>25%</th>\n",
       "      <td>8.645000</td>\n",
       "      <td>0.027047</td>\n",
       "      <td>94.412000</td>\n",
       "      <td>1987.000000</td>\n",
       "    </tr>\n",
       "    <tr>\n",
       "      <th>50%</th>\n",
       "      <td>12.500000</td>\n",
       "      <td>0.054154</td>\n",
       "      <td>141.415400</td>\n",
       "      <td>1999.000000</td>\n",
       "    </tr>\n",
       "    <tr>\n",
       "      <th>75%</th>\n",
       "      <td>16.700000</td>\n",
       "      <td>0.093463</td>\n",
       "      <td>186.026600</td>\n",
       "      <td>2004.000000</td>\n",
       "    </tr>\n",
       "    <tr>\n",
       "      <th>max</th>\n",
       "      <td>21.350000</td>\n",
       "      <td>0.323637</td>\n",
       "      <td>266.588400</td>\n",
       "      <td>2009.000000</td>\n",
       "    </tr>\n",
       "  </tbody>\n",
       "</table>\n",
       "</div>"
      ],
      "text/plain": [
       "       Item_Weight  Item_Visibility     Item_MRP  Outlet_Establishment_Year\n",
       "count  4705.000000      5681.000000  5681.000000                5681.000000\n",
       "mean     12.695633         0.065684   141.023273                1997.828903\n",
       "std       4.664849         0.051252    61.809091                   8.372256\n",
       "min       4.555000         0.000000    31.990000                1985.000000\n",
       "25%       8.645000         0.027047    94.412000                1987.000000\n",
       "50%      12.500000         0.054154   141.415400                1999.000000\n",
       "75%      16.700000         0.093463   186.026600                2004.000000\n",
       "max      21.350000         0.323637   266.588400                2009.000000"
      ]
     },
     "execution_count": 10,
     "metadata": {},
     "output_type": "execute_result"
    }
   ],
   "source": [
    "test_data.describe()"
   ]
  },
  {
   "cell_type": "markdown",
   "id": "d533b748",
   "metadata": {},
   "source": [
    "## Imputing null values"
   ]
  },
  {
   "cell_type": "code",
   "execution_count": 11,
   "id": "ab5a3a98",
   "metadata": {},
   "outputs": [],
   "source": [
    "train_data['Item_Weight'] = train_data['Item_Weight'].astype('float64')\n",
    "\n",
    "test_data['Item_Weight'] = test_data['Item_Weight'].astype('float64')"
   ]
  },
  {
   "cell_type": "code",
   "execution_count": 12,
   "id": "b5fe33c1",
   "metadata": {},
   "outputs": [],
   "source": [
    "train_data['Item_Weight'].fillna(train_data['Item_Weight'].median(),inplace=True)\n",
    "train_data['Outlet_Size'].fillna(train_data['Outlet_Size'].mode()[0],inplace=True)\n",
    "\n",
    "test_data['Item_Weight'].fillna(test_data['Item_Weight'].median(),inplace=True)\n",
    "test_data['Outlet_Size'].fillna(test_data['Outlet_Size'].mode()[0],inplace=True)"
   ]
  },
  {
   "cell_type": "code",
   "execution_count": 13,
   "id": "7642ec71",
   "metadata": {},
   "outputs": [
    {
     "name": "stdout",
     "output_type": "stream",
     "text": [
      "<class 'pandas.core.frame.DataFrame'>\n",
      "RangeIndex: 8523 entries, 0 to 8522\n",
      "Data columns (total 12 columns):\n",
      " #   Column                     Non-Null Count  Dtype  \n",
      "---  ------                     --------------  -----  \n",
      " 0   Item_Identifier            8523 non-null   object \n",
      " 1   Item_Weight                8523 non-null   float64\n",
      " 2   Item_Fat_Content           8523 non-null   object \n",
      " 3   Item_Visibility            8523 non-null   float64\n",
      " 4   Item_Type                  8523 non-null   object \n",
      " 5   Item_MRP                   8523 non-null   float64\n",
      " 6   Outlet_Identifier          8523 non-null   object \n",
      " 7   Outlet_Establishment_Year  8523 non-null   int64  \n",
      " 8   Outlet_Size                8523 non-null   object \n",
      " 9   Outlet_Location_Type       8523 non-null   object \n",
      " 10  Outlet_Type                8523 non-null   object \n",
      " 11  Item_Outlet_Sales          8523 non-null   float64\n",
      "dtypes: float64(4), int64(1), object(7)\n",
      "memory usage: 799.2+ KB\n"
     ]
    }
   ],
   "source": [
    "train_data.info()"
   ]
  },
  {
   "cell_type": "code",
   "execution_count": 14,
   "id": "ee628b9b",
   "metadata": {},
   "outputs": [
    {
     "name": "stdout",
     "output_type": "stream",
     "text": [
      "<class 'pandas.core.frame.DataFrame'>\n",
      "RangeIndex: 5681 entries, 0 to 5680\n",
      "Data columns (total 11 columns):\n",
      " #   Column                     Non-Null Count  Dtype  \n",
      "---  ------                     --------------  -----  \n",
      " 0   Item_Identifier            5681 non-null   object \n",
      " 1   Item_Weight                5681 non-null   float64\n",
      " 2   Item_Fat_Content           5681 non-null   object \n",
      " 3   Item_Visibility            5681 non-null   float64\n",
      " 4   Item_Type                  5681 non-null   object \n",
      " 5   Item_MRP                   5681 non-null   float64\n",
      " 6   Outlet_Identifier          5681 non-null   object \n",
      " 7   Outlet_Establishment_Year  5681 non-null   int64  \n",
      " 8   Outlet_Size                5681 non-null   object \n",
      " 9   Outlet_Location_Type       5681 non-null   object \n",
      " 10  Outlet_Type                5681 non-null   object \n",
      "dtypes: float64(3), int64(1), object(7)\n",
      "memory usage: 488.3+ KB\n"
     ]
    }
   ],
   "source": [
    "test_data.info()"
   ]
  },
  {
   "cell_type": "markdown",
   "id": "a8cb521f",
   "metadata": {},
   "source": [
    "## Feature engineering"
   ]
  },
  {
   "cell_type": "code",
   "execution_count": 15,
   "id": "a1b66282",
   "metadata": {},
   "outputs": [],
   "source": [
    "# dropping the Item_Identifier column since it won't be useful in making predictions"
   ]
  },
  {
   "cell_type": "code",
   "execution_count": 16,
   "id": "1bbbc3b7",
   "metadata": {},
   "outputs": [],
   "source": [
    "train_data.drop('Item_Identifier', axis=1, inplace=True)\n",
    "test_data.drop('Item_Identifier', axis=1, inplace=True)"
   ]
  },
  {
   "cell_type": "code",
   "execution_count": 17,
   "id": "f34805bd",
   "metadata": {},
   "outputs": [],
   "source": [
    "# Binning the Item_Visibility columns"
   ]
  },
  {
   "cell_type": "code",
   "execution_count": 18,
   "id": "cc234f8f",
   "metadata": {},
   "outputs": [],
   "source": [
    "# This function helps us to label encode any given column\n",
    "def col_classifier(x,q1,median,q3):\n",
    "    if x< q1:\n",
    "        return 1\n",
    "    elif x>q1 and x<= median:\n",
    "        return 2\n",
    "    elif x>median and x<=q3:\n",
    "        return 3\n",
    "    elif x>q3:\n",
    "        return 4"
   ]
  },
  {
   "cell_type": "code",
   "execution_count": 19,
   "id": "9758bd06",
   "metadata": {},
   "outputs": [],
   "source": [
    "q1 = train_data['Item_Visibility'].quantile(0.25)\n",
    "median = train_data['Item_Visibility'].quantile(0.50)\n",
    "q3 = train_data['Item_Visibility'].quantile(0.75)\n",
    "\n",
    "train_data['Item_Visibility'] = train_data['Item_Visibility'].apply(lambda x: col_classifier(x,q1,median,q3))\n",
    "test_data['Item_Visibility'] = test_data['Item_Visibility'].apply(lambda x: col_classifier(x,q1,median,q3))"
   ]
  },
  {
   "cell_type": "code",
   "execution_count": 20,
   "id": "cb5be227",
   "metadata": {},
   "outputs": [],
   "source": [
    "# Since outlet_establishment_year will be more useful to us as a categorical column than as a numerical column, we will convert\n",
    "# it to a pandas object"
   ]
  },
  {
   "cell_type": "code",
   "execution_count": 21,
   "id": "e99044a5",
   "metadata": {},
   "outputs": [],
   "source": [
    "train_data['Outlet_Establishment_Year'] = train_data['Outlet_Establishment_Year'].astype('object')\n",
    "test_data['Outlet_Establishment_Year'] = test_data['Outlet_Establishment_Year'].astype('object')"
   ]
  },
  {
   "cell_type": "code",
   "execution_count": 22,
   "id": "542ee8d6",
   "metadata": {},
   "outputs": [],
   "source": [
    "# Applying log to numerical columns"
   ]
  },
  {
   "cell_type": "code",
   "execution_count": 23,
   "id": "9b12c378",
   "metadata": {},
   "outputs": [],
   "source": [
    "numerical_cols = ['Item_Weight', 'Item_MRP'] \n",
    "categorical_cols = list(test_data.columns.values[test_data.dtypes=='object'])"
   ]
  },
  {
   "cell_type": "code",
   "execution_count": 24,
   "id": "5982211c",
   "metadata": {},
   "outputs": [],
   "source": [
    "for col in numerical_cols:\n",
    "    train_data[col] = np.log(1+train_data[col])\n",
    "    test_data[col] = np.log(1+test_data[col])"
   ]
  },
  {
   "cell_type": "code",
   "execution_count": 25,
   "id": "0e89d62f",
   "metadata": {},
   "outputs": [],
   "source": [
    "# Modifying categorical columns. The data in Item_Fat_content is inconsistent, some of the values need to be changed from\n",
    "# lf or low fat to 'Low Fat' and reg to 'Regular'"
   ]
  },
  {
   "cell_type": "code",
   "execution_count": 26,
   "id": "a2e0cb0c",
   "metadata": {},
   "outputs": [
    {
     "name": "stderr",
     "output_type": "stream",
     "text": [
      "C:\\Users\\abhis\\AppData\\Local\\Temp\\ipykernel_14076\\2390994751.py:1: SettingWithCopyWarning: \n",
      "A value is trying to be set on a copy of a slice from a DataFrame\n",
      "\n",
      "See the caveats in the documentation: https://pandas.pydata.org/pandas-docs/stable/user_guide/indexing.html#returning-a-view-versus-a-copy\n",
      "  train_data['Item_Fat_Content'][train_data['Item_Fat_Content'] == 'reg'] = 'Regular'\n",
      "C:\\Users\\abhis\\AppData\\Local\\Temp\\ipykernel_14076\\2390994751.py:2: SettingWithCopyWarning: \n",
      "A value is trying to be set on a copy of a slice from a DataFrame\n",
      "\n",
      "See the caveats in the documentation: https://pandas.pydata.org/pandas-docs/stable/user_guide/indexing.html#returning-a-view-versus-a-copy\n",
      "  train_data['Item_Fat_Content'][train_data['Item_Fat_Content'] == 'LF'] = 'Low Fat'\n",
      "C:\\Users\\abhis\\AppData\\Local\\Temp\\ipykernel_14076\\2390994751.py:3: SettingWithCopyWarning: \n",
      "A value is trying to be set on a copy of a slice from a DataFrame\n",
      "\n",
      "See the caveats in the documentation: https://pandas.pydata.org/pandas-docs/stable/user_guide/indexing.html#returning-a-view-versus-a-copy\n",
      "  train_data['Item_Fat_Content'][train_data['Item_Fat_Content'] == 'low fat'] = 'Low Fat'\n",
      "C:\\Users\\abhis\\AppData\\Local\\Temp\\ipykernel_14076\\2390994751.py:5: SettingWithCopyWarning: \n",
      "A value is trying to be set on a copy of a slice from a DataFrame\n",
      "\n",
      "See the caveats in the documentation: https://pandas.pydata.org/pandas-docs/stable/user_guide/indexing.html#returning-a-view-versus-a-copy\n",
      "  test_data['Item_Fat_Content'][test_data['Item_Fat_Content'] == 'reg'] = 'Regular'\n",
      "C:\\Users\\abhis\\AppData\\Local\\Temp\\ipykernel_14076\\2390994751.py:6: SettingWithCopyWarning: \n",
      "A value is trying to be set on a copy of a slice from a DataFrame\n",
      "\n",
      "See the caveats in the documentation: https://pandas.pydata.org/pandas-docs/stable/user_guide/indexing.html#returning-a-view-versus-a-copy\n",
      "  test_data['Item_Fat_Content'][test_data['Item_Fat_Content'] == 'LF'] = 'Low Fat'\n",
      "C:\\Users\\abhis\\AppData\\Local\\Temp\\ipykernel_14076\\2390994751.py:7: SettingWithCopyWarning: \n",
      "A value is trying to be set on a copy of a slice from a DataFrame\n",
      "\n",
      "See the caveats in the documentation: https://pandas.pydata.org/pandas-docs/stable/user_guide/indexing.html#returning-a-view-versus-a-copy\n",
      "  test_data['Item_Fat_Content'][test_data['Item_Fat_Content'] == 'low fat'] = 'Low Fat'\n"
     ]
    }
   ],
   "source": [
    "train_data['Item_Fat_Content'][train_data['Item_Fat_Content'] == 'reg'] = 'Regular'\n",
    "train_data['Item_Fat_Content'][train_data['Item_Fat_Content'] == 'LF'] = 'Low Fat'\n",
    "train_data['Item_Fat_Content'][train_data['Item_Fat_Content'] == 'low fat'] = 'Low Fat'\n",
    "\n",
    "test_data['Item_Fat_Content'][test_data['Item_Fat_Content'] == 'reg'] = 'Regular'\n",
    "test_data['Item_Fat_Content'][test_data['Item_Fat_Content'] == 'LF'] = 'Low Fat'\n",
    "test_data['Item_Fat_Content'][test_data['Item_Fat_Content'] == 'low fat'] = 'Low Fat'"
   ]
  },
  {
   "cell_type": "code",
   "execution_count": 27,
   "id": "3eb1fdb8",
   "metadata": {},
   "outputs": [],
   "source": [
    "# Now let's one hot encode the categorical columns"
   ]
  },
  {
   "cell_type": "code",
   "execution_count": 28,
   "id": "5e3995b4",
   "metadata": {},
   "outputs": [],
   "source": [
    "train_data_onehot = pd.get_dummies(train_data, drop_first=True)\n",
    "test_data_onehot = pd.get_dummies(test_data, drop_first=True)"
   ]
  },
  {
   "cell_type": "code",
   "execution_count": 29,
   "id": "aabc4a73",
   "metadata": {},
   "outputs": [],
   "source": [
    "# Since the one hot encoded values are in True or False form, we have to convert them to 1s and 0s."
   ]
  },
  {
   "cell_type": "code",
   "execution_count": 30,
   "id": "1d24c25c",
   "metadata": {},
   "outputs": [],
   "source": [
    "for col in train_data_onehot.columns.values[train_data_onehot.dtypes == 'bool']:\n",
    "    train_data_onehot[col] = train_data_onehot[col].map({True:1,False:0})\n",
    "for col in test_data_onehot.columns.values[test_data_onehot.dtypes == 'bool']:\n",
    "    test_data_onehot[col] = test_data_onehot[col].map({True:1,False:0})"
   ]
  },
  {
   "cell_type": "markdown",
   "id": "851bf280",
   "metadata": {},
   "source": [
    "Our Preprocessing is done here."
   ]
  },
  {
   "cell_type": "markdown",
   "id": "16c4290f",
   "metadata": {},
   "source": [
    "## Splitting the data into train and validation datasets."
   ]
  },
  {
   "cell_type": "code",
   "execution_count": 31,
   "id": "d9dcc6fc",
   "metadata": {},
   "outputs": [],
   "source": [
    "train_inputs = ['Item_Weight', 'Item_Visibility', 'Item_MRP', 'Item_Fat_Content_Regular', 'Item_Type_Breads',\n",
    "       'Item_Type_Breakfast', 'Item_Type_Canned', 'Item_Type_Dairy',\n",
    "       'Item_Type_Frozen Foods', 'Item_Type_Fruits and Vegetables',\n",
    "       'Item_Type_Hard Drinks', 'Item_Type_Health and Hygiene',\n",
    "       'Item_Type_Household', 'Item_Type_Meat', 'Item_Type_Others',\n",
    "       'Item_Type_Seafood', 'Item_Type_Snack Foods',\n",
    "       'Item_Type_Soft Drinks', 'Item_Type_Starchy Foods',\n",
    "       'Outlet_Identifier_OUT013', 'Outlet_Identifier_OUT017',\n",
    "       'Outlet_Identifier_OUT018', 'Outlet_Identifier_OUT019',\n",
    "       'Outlet_Identifier_OUT027', 'Outlet_Identifier_OUT035',\n",
    "       'Outlet_Identifier_OUT045', 'Outlet_Identifier_OUT046',\n",
    "       'Outlet_Identifier_OUT049', 'Outlet_Establishment_Year_1987',\n",
    "       'Outlet_Establishment_Year_1997', 'Outlet_Establishment_Year_1998',\n",
    "       'Outlet_Establishment_Year_1999', 'Outlet_Establishment_Year_2002',\n",
    "       'Outlet_Establishment_Year_2004', 'Outlet_Establishment_Year_2007',\n",
    "       'Outlet_Establishment_Year_2009', 'Outlet_Size_Medium',\n",
    "       'Outlet_Size_Small', 'Outlet_Location_Type_Tier 2',\n",
    "       'Outlet_Location_Type_Tier 3', 'Outlet_Type_Supermarket Type1',\n",
    "       'Outlet_Type_Supermarket Type2', 'Outlet_Type_Supermarket Type3']\n",
    "train_targets = ['Item_Outlet_Sales']"
   ]
  },
  {
   "cell_type": "code",
   "execution_count": 32,
   "id": "0ac11ace",
   "metadata": {},
   "outputs": [],
   "source": [
    "xtrain, xtest, ytrain, ytest = train_test_split(train_data_onehot[train_inputs], train_data_onehot[train_targets], random_state=10, test_size=0.2)\n",
    "# 80% will be train data and 20% will be validation data"
   ]
  },
  {
   "cell_type": "code",
   "execution_count": 33,
   "id": "6e70c52b",
   "metadata": {},
   "outputs": [
    {
     "data": {
      "text/plain": [
       "((6818, 43), (1705, 43), (6818, 1), (1705, 1))"
      ]
     },
     "execution_count": 33,
     "metadata": {},
     "output_type": "execute_result"
    }
   ],
   "source": [
    "xtrain.shape, xtest.shape, ytrain.shape, ytest.shape"
   ]
  },
  {
   "cell_type": "markdown",
   "id": "76859cd9",
   "metadata": {},
   "source": [
    "## Now let's create a neural network using keras"
   ]
  },
  {
   "cell_type": "markdown",
   "id": "d69bab2d",
   "metadata": {},
   "source": [
    "Our Neural network will contain\n",
    "\n",
    "1. Input layer of 43 neurons.\n",
    "2. Two hidden layers of 20 and 10 neurons.\n",
    "3. Output layer of one neuron."
   ]
  },
  {
   "cell_type": "code",
   "execution_count": 34,
   "id": "1d695ef3",
   "metadata": {},
   "outputs": [],
   "source": [
    "input_shape = xtrain.shape[1]\n",
    "output_shape = 1\n",
    "hidden_layer_1 = 20\n",
    "hidden_layer_2 = 10"
   ]
  },
  {
   "cell_type": "markdown",
   "id": "53b12313",
   "metadata": {},
   "source": [
    "Activation functions:\n",
    "\n",
    "1. We will apply Relu activation function to the hidden layers.\n",
    "2. We will apply linear activation function to the output layer."
   ]
  },
  {
   "cell_type": "code",
   "execution_count": 35,
   "id": "d325fd97",
   "metadata": {},
   "outputs": [],
   "source": [
    "model = keras.models.Sequential()\n",
    "model.add(keras.layers.InputLayer(input_shape=(input_shape,)))\n",
    "model.add(keras.layers.Dense(units=hidden_layer_1, activation='relu'))\n",
    "model.add(keras.layers.Dense(units=hidden_layer_2, activation='relu'))\n",
    "model.add(keras.layers.Dense(units=output_shape, activation='linear'))"
   ]
  },
  {
   "cell_type": "code",
   "execution_count": 36,
   "id": "8b13e96a",
   "metadata": {},
   "outputs": [
    {
     "name": "stdout",
     "output_type": "stream",
     "text": [
      "Model: \"sequential\"\n",
      "_________________________________________________________________\n",
      " Layer (type)                Output Shape              Param #   \n",
      "=================================================================\n",
      " dense (Dense)               (None, 20)                880       \n",
      "                                                                 \n",
      " dense_1 (Dense)             (None, 10)                210       \n",
      "                                                                 \n",
      " dense_2 (Dense)             (None, 1)                 11        \n",
      "                                                                 \n",
      "=================================================================\n",
      "Total params: 1,101\n",
      "Trainable params: 1,101\n",
      "Non-trainable params: 0\n",
      "_________________________________________________________________\n"
     ]
    }
   ],
   "source": [
    "model.summary()"
   ]
  },
  {
   "cell_type": "code",
   "execution_count": 37,
   "id": "1245b2c4",
   "metadata": {},
   "outputs": [],
   "source": [
    "# Since rmse has to be defined in terms of keras.backend functions instead of numpy functions.\n",
    "from keras import backend as k\n",
    "def root_mean_squared_error(ytrue, ypred):\n",
    "        return k.sqrt(k.mean(k.square(ypred - ytrue)))"
   ]
  },
  {
   "cell_type": "code",
   "execution_count": 38,
   "id": "a2e42750",
   "metadata": {},
   "outputs": [],
   "source": [
    "# Defining the model with loss=rmse, optimizer=adam and metrics=R square\n",
    "# run_eagerly has to be set true in order to avoid the NotImplemented error. Keras works in terms of tensorflow tensors \n",
    "# and sklearn works on numpy arrays.\n",
    "model.compile(loss=root_mean_squared_error,optimizer='Adam',metrics=[r2_score], run_eagerly=True)"
   ]
  },
  {
   "cell_type": "code",
   "execution_count": 39,
   "id": "448604b3",
   "metadata": {},
   "outputs": [],
   "source": [
    "# Let's train the model for 100 epochs"
   ]
  },
  {
   "cell_type": "code",
   "execution_count": 40,
   "id": "4d5285ba",
   "metadata": {},
   "outputs": [
    {
     "name": "stdout",
     "output_type": "stream",
     "text": [
      "Epoch 1/100\n",
      "214/214 [==============================] - 30s 120ms/step - loss: 2718.9724 - r2_score: -1.8432 - val_loss: 2708.8406 - val_r2_score: -1.6557\n",
      "Epoch 2/100\n",
      "214/214 [==============================] - 23s 108ms/step - loss: 2453.2944 - r2_score: -1.3578 - val_loss: 2190.2605 - val_r2_score: -0.7139\n",
      "Epoch 3/100\n",
      "214/214 [==============================] - 24s 111ms/step - loss: 1829.2695 - r2_score: -0.2354 - val_loss: 1661.1343 - val_r2_score: 0.0278\n",
      "Epoch 4/100\n",
      "214/214 [==============================] - 23s 108ms/step - loss: 1604.7881 - r2_score: 0.0367 - val_loss: 1614.8945 - val_r2_score: 0.0784\n",
      "Epoch 5/100\n",
      "214/214 [==============================] - 24s 113ms/step - loss: 1577.6659 - r2_score: -0.0321 - val_loss: 1593.3771 - val_r2_score: 0.1027\n",
      "Epoch 6/100\n",
      "214/214 [==============================] - 23s 107ms/step - loss: 1557.6808 - r2_score: 0.1130 - val_loss: 1573.1494 - val_r2_score: 0.1262\n",
      "Epoch 7/100\n",
      "214/214 [==============================] - 23s 108ms/step - loss: 1537.6200 - r2_score: 0.1280 - val_loss: 1551.4849 - val_r2_score: 0.1501\n",
      "Epoch 8/100\n",
      "214/214 [==============================] - 24s 110ms/step - loss: 1516.3811 - r2_score: 0.0211 - val_loss: 1529.7887 - val_r2_score: 0.1738\n",
      "Epoch 9/100\n",
      "214/214 [==============================] - 23s 107ms/step - loss: 1493.7052 - r2_score: 0.1713 - val_loss: 1508.2837 - val_r2_score: 0.1969\n",
      "Epoch 10/100\n",
      "214/214 [==============================] - 23s 108ms/step - loss: 1472.4736 - r2_score: 0.2113 - val_loss: 1485.9183 - val_r2_score: 0.2187\n",
      "Epoch 11/100\n",
      "214/214 [==============================] - 23s 110ms/step - loss: 1451.1814 - r2_score: 0.2258 - val_loss: 1466.0978 - val_r2_score: 0.2395\n",
      "Epoch 12/100\n",
      "214/214 [==============================] - 23s 108ms/step - loss: 1431.6886 - r2_score: 0.2469 - val_loss: 1447.9299 - val_r2_score: 0.2579\n",
      "Epoch 13/100\n",
      "214/214 [==============================] - 23s 107ms/step - loss: 1413.0553 - r2_score: 0.2587 - val_loss: 1431.5413 - val_r2_score: 0.2740\n",
      "Epoch 14/100\n",
      "214/214 [==============================] - 24s 112ms/step - loss: 1398.0975 - r2_score: -0.6152 - val_loss: 1417.6223 - val_r2_score: 0.2871\n",
      "Epoch 15/100\n",
      "214/214 [==============================] - 29s 138ms/step - loss: 1385.7655 - r2_score: 0.2570 - val_loss: 1406.4984 - val_r2_score: 0.2979\n",
      "Epoch 16/100\n",
      "214/214 [==============================] - 34s 159ms/step - loss: 1374.6790 - r2_score: 0.1635 - val_loss: 1397.8790 - val_r2_score: 0.3064\n",
      "Epoch 17/100\n",
      "214/214 [==============================] - 27s 125ms/step - loss: 1369.9586 - r2_score: 0.3155 - val_loss: 1387.8435 - val_r2_score: 0.3137\n",
      "Epoch 18/100\n",
      "214/214 [==============================] - 28s 130ms/step - loss: 1360.2090 - r2_score: 0.3133 - val_loss: 1380.9504 - val_r2_score: 0.3200\n",
      "Epoch 19/100\n",
      "214/214 [==============================] - 28s 131ms/step - loss: 1355.9148 - r2_score: 0.1413 - val_loss: 1375.1229 - val_r2_score: 0.3261\n",
      "Epoch 20/100\n",
      "214/214 [==============================] - 27s 128ms/step - loss: 1344.9796 - r2_score: 0.3266 - val_loss: 1369.8041 - val_r2_score: 0.3309\n",
      "Epoch 21/100\n",
      "214/214 [==============================] - 27s 127ms/step - loss: 1342.2909 - r2_score: 0.3400 - val_loss: 1365.2085 - val_r2_score: 0.3355\n",
      "Epoch 22/100\n",
      "214/214 [==============================] - 26s 123ms/step - loss: 1339.7024 - r2_score: 0.3219 - val_loss: 1359.6630 - val_r2_score: 0.3398\n",
      "Epoch 23/100\n",
      "214/214 [==============================] - 28s 131ms/step - loss: 1333.2754 - r2_score: 0.1411 - val_loss: 1355.3682 - val_r2_score: 0.3434\n",
      "Epoch 24/100\n",
      "214/214 [==============================] - 29s 134ms/step - loss: 1334.4098 - r2_score: 0.2867 - val_loss: 1351.0808 - val_r2_score: 0.3473\n",
      "Epoch 25/100\n",
      "214/214 [==============================] - 27s 128ms/step - loss: 1325.5911 - r2_score: 0.3471 - val_loss: 1346.8993 - val_r2_score: 0.3511\n",
      "Epoch 26/100\n",
      "214/214 [==============================] - 27s 128ms/step - loss: 1320.8195 - r2_score: 0.3206 - val_loss: 1345.1129 - val_r2_score: 0.3549\n",
      "Epoch 27/100\n",
      "214/214 [==============================] - 27s 125ms/step - loss: 1318.2314 - r2_score: 0.3572 - val_loss: 1339.2867 - val_r2_score: 0.3594\n",
      "Epoch 28/100\n",
      "214/214 [==============================] - 27s 127ms/step - loss: 1315.8368 - r2_score: 0.3548 - val_loss: 1334.5564 - val_r2_score: 0.3617\n",
      "Epoch 29/100\n",
      "214/214 [==============================] - 27s 125ms/step - loss: 1311.1373 - r2_score: 0.3605 - val_loss: 1331.2079 - val_r2_score: 0.3671\n",
      "Epoch 30/100\n",
      "214/214 [==============================] - 27s 128ms/step - loss: 1305.0319 - r2_score: 0.3673 - val_loss: 1327.0527 - val_r2_score: 0.3710\n",
      "Epoch 31/100\n",
      "214/214 [==============================] - 27s 126ms/step - loss: 1303.1049 - r2_score: 0.2830 - val_loss: 1321.9003 - val_r2_score: 0.3745\n",
      "Epoch 32/100\n",
      "214/214 [==============================] - 27s 126ms/step - loss: 1298.5616 - r2_score: 0.3779 - val_loss: 1317.6073 - val_r2_score: 0.3784\n",
      "Epoch 33/100\n",
      "214/214 [==============================] - 28s 129ms/step - loss: 1292.6857 - r2_score: 0.3686 - val_loss: 1313.8358 - val_r2_score: 0.3819\n",
      "Epoch 34/100\n",
      "214/214 [==============================] - 29s 134ms/step - loss: 1291.1489 - r2_score: 0.3785 - val_loss: 1309.6107 - val_r2_score: 0.3864\n",
      "Epoch 35/100\n",
      "214/214 [==============================] - 30s 143ms/step - loss: 1284.4216 - r2_score: 0.3869 - val_loss: 1305.9106 - val_r2_score: 0.3899\n",
      "Epoch 36/100\n",
      "214/214 [==============================] - 29s 138ms/step - loss: 1281.7491 - r2_score: -22.8976 - val_loss: 1301.6200 - val_r2_score: 0.3929\n",
      "Epoch 37/100\n",
      "214/214 [==============================] - 30s 140ms/step - loss: 1279.1527 - r2_score: 0.3928 - val_loss: 1297.6445 - val_r2_score: 0.3972\n",
      "Epoch 38/100\n",
      "214/214 [==============================] - 36s 167ms/step - loss: 1275.2181 - r2_score: 0.3032 - val_loss: 1294.6793 - val_r2_score: 0.4008\n",
      "Epoch 39/100\n",
      "214/214 [==============================] - 40s 186ms/step - loss: 1269.4668 - r2_score: 0.3922 - val_loss: 1289.6997 - val_r2_score: 0.4039\n",
      "Epoch 40/100\n",
      "214/214 [==============================] - 35s 164ms/step - loss: 1268.6995 - r2_score: 0.3639 - val_loss: 1286.3810 - val_r2_score: 0.4079\n",
      "Epoch 41/100\n",
      "214/214 [==============================] - 36s 168ms/step - loss: 1264.1543 - r2_score: 0.4079 - val_loss: 1281.5443 - val_r2_score: 0.4120\n",
      "Epoch 42/100\n",
      "214/214 [==============================] - 35s 164ms/step - loss: 1263.0845 - r2_score: 0.3114 - val_loss: 1279.2374 - val_r2_score: 0.4117\n",
      "Epoch 43/100\n",
      "214/214 [==============================] - 36s 166ms/step - loss: 1255.1112 - r2_score: 0.4127 - val_loss: 1274.8062 - val_r2_score: 0.4187\n",
      "Epoch 44/100\n",
      "214/214 [==============================] - 35s 162ms/step - loss: 1254.1477 - r2_score: 0.4140 - val_loss: 1273.8632 - val_r2_score: 0.4206\n",
      "Epoch 45/100\n",
      "214/214 [==============================] - 35s 164ms/step - loss: 1248.5060 - r2_score: 0.4164 - val_loss: 1265.7885 - val_r2_score: 0.4251\n",
      "Epoch 46/100\n",
      "214/214 [==============================] - 34s 161ms/step - loss: 1242.9784 - r2_score: 0.4201 - val_loss: 1262.3177 - val_r2_score: 0.4294\n",
      "Epoch 47/100\n",
      "214/214 [==============================] - 35s 164ms/step - loss: 1241.4492 - r2_score: 0.4231 - val_loss: 1257.6514 - val_r2_score: 0.4327\n",
      "Epoch 48/100\n",
      "214/214 [==============================] - 38s 179ms/step - loss: 1235.5161 - r2_score: 0.4313 - val_loss: 1254.0946 - val_r2_score: 0.4369\n",
      "Epoch 49/100\n",
      "214/214 [==============================] - 34s 158ms/step - loss: 1238.5720 - r2_score: 0.3412 - val_loss: 1249.3115 - val_r2_score: 0.4403\n",
      "Epoch 50/100\n",
      "214/214 [==============================] - 25s 117ms/step - loss: 1232.8202 - r2_score: 0.4404 - val_loss: 1245.3832 - val_r2_score: 0.4433\n",
      "Epoch 51/100\n",
      "214/214 [==============================] - 24s 111ms/step - loss: 1226.4435 - r2_score: 0.4439 - val_loss: 1243.3923 - val_r2_score: 0.4467\n",
      "Epoch 52/100\n",
      "214/214 [==============================] - 23s 106ms/step - loss: 1219.8813 - r2_score: -0.5973 - val_loss: 1237.9946 - val_r2_score: 0.4504\n",
      "Epoch 53/100\n",
      "214/214 [==============================] - 23s 108ms/step - loss: 1220.8860 - r2_score: 0.4459 - val_loss: 1234.5560 - val_r2_score: 0.4536\n",
      "Epoch 54/100\n",
      "214/214 [==============================] - 26s 121ms/step - loss: 1215.5967 - r2_score: 0.4335 - val_loss: 1230.4539 - val_r2_score: 0.4567\n",
      "Epoch 55/100\n",
      "214/214 [==============================] - 23s 109ms/step - loss: 1211.2710 - r2_score: 0.4221 - val_loss: 1226.7302 - val_r2_score: 0.4598\n",
      "Epoch 56/100\n",
      "214/214 [==============================] - 27s 126ms/step - loss: 1208.8182 - r2_score: 0.4566 - val_loss: 1223.3109 - val_r2_score: 0.4614\n",
      "Epoch 57/100\n",
      "214/214 [==============================] - 24s 112ms/step - loss: 1206.9492 - r2_score: 0.4591 - val_loss: 1219.8500 - val_r2_score: 0.4659\n",
      "Epoch 58/100\n",
      "214/214 [==============================] - 25s 119ms/step - loss: 1200.3071 - r2_score: 0.4506 - val_loss: 1217.9902 - val_r2_score: 0.4648\n",
      "Epoch 59/100\n",
      "214/214 [==============================] - 25s 118ms/step - loss: 1198.6688 - r2_score: 0.4521 - val_loss: 1213.0154 - val_r2_score: 0.4711\n",
      "Epoch 60/100\n",
      "214/214 [==============================] - 25s 115ms/step - loss: 1196.3708 - r2_score: 0.4654 - val_loss: 1210.6478 - val_r2_score: 0.4739\n",
      "Epoch 61/100\n",
      "214/214 [==============================] - 25s 117ms/step - loss: 1194.1213 - r2_score: 0.4711 - val_loss: 1206.3018 - val_r2_score: 0.4763\n",
      "Epoch 62/100\n",
      "214/214 [==============================] - 25s 117ms/step - loss: 1188.1073 - r2_score: 0.4721 - val_loss: 1203.4795 - val_r2_score: 0.4781\n",
      "Epoch 63/100\n",
      "214/214 [==============================] - 24s 114ms/step - loss: 1186.9331 - r2_score: 0.4361 - val_loss: 1200.3214 - val_r2_score: 0.4811\n",
      "Epoch 64/100\n",
      "214/214 [==============================] - 25s 117ms/step - loss: 1182.8152 - r2_score: 0.4634 - val_loss: 1198.0520 - val_r2_score: 0.4823\n",
      "Epoch 65/100\n",
      "214/214 [==============================] - 25s 115ms/step - loss: 1181.3763 - r2_score: 0.3816 - val_loss: 1194.9482 - val_r2_score: 0.4859\n",
      "Epoch 66/100\n",
      "214/214 [==============================] - 25s 116ms/step - loss: 1180.1724 - r2_score: 0.4786 - val_loss: 1192.3687 - val_r2_score: 0.4882\n",
      "Epoch 67/100\n",
      "214/214 [==============================] - 25s 118ms/step - loss: 1177.0908 - r2_score: 0.4813 - val_loss: 1191.6960 - val_r2_score: 0.4898\n",
      "Epoch 68/100\n",
      "214/214 [==============================] - 24s 114ms/step - loss: 1174.9060 - r2_score: 0.4849 - val_loss: 1187.7838 - val_r2_score: 0.4918\n",
      "Epoch 69/100\n",
      "214/214 [==============================] - 25s 117ms/step - loss: 1171.6233 - r2_score: 0.4777 - val_loss: 1185.0748 - val_r2_score: 0.4935\n",
      "Epoch 70/100\n",
      "214/214 [==============================] - 28s 129ms/step - loss: 1170.5044 - r2_score: -0.0849 - val_loss: 1182.5685 - val_r2_score: 0.4958\n",
      "Epoch 71/100\n",
      "214/214 [==============================] - 25s 116ms/step - loss: 1165.1938 - r2_score: 0.4533 - val_loss: 1184.5061 - val_r2_score: 0.4914\n",
      "Epoch 72/100\n",
      "214/214 [==============================] - 25s 118ms/step - loss: 1162.6075 - r2_score: 0.4154 - val_loss: 1178.4872 - val_r2_score: 0.4998\n",
      "Epoch 73/100\n",
      "214/214 [==============================] - 24s 114ms/step - loss: 1161.2266 - r2_score: 0.4949 - val_loss: 1176.2489 - val_r2_score: 0.5012\n",
      "Epoch 74/100\n",
      "214/214 [==============================] - 26s 121ms/step - loss: 1161.6664 - r2_score: 0.4979 - val_loss: 1175.9490 - val_r2_score: 0.4995\n",
      "Epoch 75/100\n",
      "214/214 [==============================] - 25s 115ms/step - loss: 1158.2828 - r2_score: 0.4982 - val_loss: 1172.5637 - val_r2_score: 0.5046\n",
      "Epoch 76/100\n",
      "214/214 [==============================] - 25s 115ms/step - loss: 1158.3740 - r2_score: 0.4997 - val_loss: 1170.2218 - val_r2_score: 0.5059\n",
      "Epoch 77/100\n",
      "214/214 [==============================] - 25s 118ms/step - loss: 1153.1400 - r2_score: 0.5043 - val_loss: 1168.4943 - val_r2_score: 0.5068\n",
      "Epoch 78/100\n",
      "214/214 [==============================] - 25s 118ms/step - loss: 1153.1901 - r2_score: 0.5061 - val_loss: 1166.7513 - val_r2_score: 0.5095\n",
      "Epoch 79/100\n",
      "214/214 [==============================] - 27s 127ms/step - loss: 1150.8711 - r2_score: 0.5085 - val_loss: 1164.7007 - val_r2_score: 0.5110\n",
      "Epoch 80/100\n",
      "214/214 [==============================] - 26s 122ms/step - loss: 1153.7712 - r2_score: 0.4684 - val_loss: 1162.7643 - val_r2_score: 0.5123\n",
      "Epoch 81/100\n",
      "214/214 [==============================] - 25s 115ms/step - loss: 1149.3375 - r2_score: -11.0939 - val_loss: 1161.8785 - val_r2_score: 0.5111\n",
      "Epoch 82/100\n",
      "214/214 [==============================] - 25s 118ms/step - loss: 1147.5183 - r2_score: 0.5108 - val_loss: 1159.2390 - val_r2_score: 0.5146\n",
      "Epoch 83/100\n",
      "214/214 [==============================] - 24s 114ms/step - loss: 1145.9036 - r2_score: 0.4971 - val_loss: 1157.5360 - val_r2_score: 0.5157\n",
      "Epoch 84/100\n",
      "214/214 [==============================] - 25s 114ms/step - loss: 1142.2054 - r2_score: 0.5146 - val_loss: 1156.1700 - val_r2_score: 0.5172\n",
      "Epoch 85/100\n",
      "214/214 [==============================] - 25s 117ms/step - loss: 1144.5270 - r2_score: -2896.6746 - val_loss: 1154.1252 - val_r2_score: 0.5182\n",
      "Epoch 86/100\n",
      "214/214 [==============================] - 24s 114ms/step - loss: 1140.0836 - r2_score: 0.5124 - val_loss: 1155.7313 - val_r2_score: 0.5147\n",
      "Epoch 87/100\n",
      "214/214 [==============================] - 25s 115ms/step - loss: 1140.3889 - r2_score: 0.3373 - val_loss: 1151.7490 - val_r2_score: 0.5211\n",
      "Epoch 88/100\n",
      "214/214 [==============================] - 31s 143ms/step - loss: 1137.5847 - r2_score: 0.5204 - val_loss: 1150.0105 - val_r2_score: 0.5207\n",
      "Epoch 89/100\n",
      "214/214 [==============================] - 28s 130ms/step - loss: 1137.9485 - r2_score: 0.5123 - val_loss: 1147.7981 - val_r2_score: 0.5238\n",
      "Epoch 90/100\n",
      "214/214 [==============================] - 25s 118ms/step - loss: 1134.1877 - r2_score: 0.5180 - val_loss: 1147.9727 - val_r2_score: 0.5217\n",
      "Epoch 91/100\n",
      "214/214 [==============================] - 24s 114ms/step - loss: 1131.9713 - r2_score: -6.5559 - val_loss: 1145.1115 - val_r2_score: 0.5251\n",
      "Epoch 92/100\n",
      "214/214 [==============================] - 25s 116ms/step - loss: 1131.9292 - r2_score: 0.5205 - val_loss: 1144.3893 - val_r2_score: 0.5273\n",
      "Epoch 93/100\n",
      "214/214 [==============================] - 27s 127ms/step - loss: 1129.4418 - r2_score: 0.5255 - val_loss: 1142.2119 - val_r2_score: 0.5281\n",
      "Epoch 94/100\n",
      "214/214 [==============================] - 26s 120ms/step - loss: 1128.7397 - r2_score: 0.5230 - val_loss: 1146.8107 - val_r2_score: 0.5206\n",
      "Epoch 95/100\n",
      "214/214 [==============================] - 26s 121ms/step - loss: 1127.2169 - r2_score: 0.5255 - val_loss: 1139.0016 - val_r2_score: 0.5302\n",
      "Epoch 96/100\n",
      "214/214 [==============================] - 25s 115ms/step - loss: 1124.1531 - r2_score: 0.5230 - val_loss: 1139.7319 - val_r2_score: 0.5316\n",
      "Epoch 97/100\n",
      "214/214 [==============================] - 26s 121ms/step - loss: 1123.6637 - r2_score: 0.5182 - val_loss: 1138.2737 - val_r2_score: 0.5292\n",
      "Epoch 98/100\n",
      "214/214 [==============================] - 25s 118ms/step - loss: 1122.4951 - r2_score: 0.5321 - val_loss: 1135.0165 - val_r2_score: 0.5340\n",
      "Epoch 99/100\n",
      "214/214 [==============================] - 25s 115ms/step - loss: 1119.0399 - r2_score: 0.5313 - val_loss: 1133.6873 - val_r2_score: 0.5340\n",
      "Epoch 100/100\n",
      "214/214 [==============================] - 26s 121ms/step - loss: 1119.1106 - r2_score: -4.9306 - val_loss: 1132.0752 - val_r2_score: 0.5362\n"
     ]
    }
   ],
   "source": [
    "model_history = model.fit(xtrain, ytrain, validation_data=(xtest, ytest), epochs=100)"
   ]
  },
  {
   "cell_type": "code",
   "execution_count": 41,
   "id": "0cf8ce6c",
   "metadata": {},
   "outputs": [],
   "source": [
    "# Let's make predictions on the test set provided."
   ]
  },
  {
   "cell_type": "code",
   "execution_count": 42,
   "id": "dfd4c1dc",
   "metadata": {},
   "outputs": [
    {
     "name": "stdout",
     "output_type": "stream",
     "text": [
      "178/178 [==============================] - 1s 5ms/step\n"
     ]
    }
   ],
   "source": [
    "predictions = model.predict(test_data_onehot)"
   ]
  },
  {
   "cell_type": "code",
   "execution_count": 43,
   "id": "920b5b75",
   "metadata": {},
   "outputs": [],
   "source": [
    "predictions_list = []\n",
    "for i in predictions:\n",
    "    if i[0] < 0:\n",
    "        i[0]=0\n",
    "    predictions_list.append(i[0])"
   ]
  },
  {
   "cell_type": "markdown",
   "id": "a63875d0",
   "metadata": {},
   "source": [
    "## Plot of loss vs epochs"
   ]
  },
  {
   "cell_type": "code",
   "execution_count": 44,
   "id": "3c2b0586",
   "metadata": {},
   "outputs": [
    {
     "data": {
      "image/png": "[encoded data removed]",
      "text/plain": [
       "<Figure size 640x480 with 1 Axes>"
      ]
     },
     "metadata": {},
     "output_type": "display_data"
    }
   ],
   "source": [
    "plt.plot(model_history.history['loss'])\n",
    "plt.plot(model_history.history['val_loss'])\n",
    "plt.title('model loss')\n",
    "plt.ylabel('loss')\n",
    "plt.xlabel('epoch')\n",
    "plt.legend(['train', 'validation'], loc='upper left')\n",
    "plt.show()"
   ]
  },
  {
   "cell_type": "markdown",
   "id": "cdbfecda",
   "metadata": {},
   "source": [
    "## Creating the final submission data frame and exporting it to a csv file."
   ]
  },
  {
   "cell_type": "code",
   "execution_count": 45,
   "id": "fb9681b2",
   "metadata": {},
   "outputs": [],
   "source": [
    "test_data2 = pd.read_csv('test_set_big_mart.csv')"
   ]
  },
  {
   "cell_type": "code",
   "execution_count": 46,
   "id": "935ee129",
   "metadata": {},
   "outputs": [],
   "source": [
    "submission_file = pd.DataFrame({'Item_Identifier':list(test_data2['Item_Identifier']), 'Outlet_Identifier': list(test_data2['Outlet_Identifier']), 'Item_Outlet_Sales': predictions_list})"
   ]
  },
  {
   "cell_type": "code",
   "execution_count": 48,
   "id": "6bffd99a",
   "metadata": {},
   "outputs": [],
   "source": [
    "submission_file.to_csv(r'D:\\Data science\\Analytics Vidya\\C5 Applied ML beginner to advanced\\Assignments\\Assignment 8\\final_submission_file_Abhishek_A_B.csv',index=False)"
   ]
  },
  {
   "cell_type": "code",
   "execution_count": null,
   "id": "42316403",
   "metadata": {},
   "outputs": [],
   "source": []
  }
 ],
 "metadata": {
  "kernelspec": {
   "display_name": "mlenv_py3",
   "language": "python",
   "name": "mlenv_py3"
  },
  "language_info": {
   "codemirror_mode": {
    "name": "ipython",
    "version": 3
   },
   "file_extension": ".py",
   "mimetype": "text/x-python",
   "name": "python",
   "nbconvert_exporter": "python",
   "pygments_lexer": "ipython3",
   "version": "3.10.11"
  }
 },
 "nbformat": 4,
 "nbformat_minor": 5
}
